{
 "cells": [
  {
   "cell_type": "code",
   "execution_count": null,
   "id": "5c074e09",
   "metadata": {},
   "outputs": [],
   "source": [
    "# Importing Libraries\n",
    "from functions.patches_functions import *\n",
    "from spectral import *\n",
    "from functions.dataset_functions import *\n",
    "from functions.augmentations import *\n",
    "from models.mft_function import *"
   ]
  },
  {
   "cell_type": "code",
   "execution_count": 2,
   "id": "d8d68ea8",
   "metadata": {},
   "outputs": [],
   "source": [
    "# Loading Electrolyzers-HSI\n",
    "output_dir = \"Path to Electrolyzers dataset/Electrolyzers-HSI\"\n",
    "\n",
    "HSI, RGB, GT = load_triplets(output_dir)\n",
    "HSI = spectral_binning(HSI)\n"
   ]
  },
  {
   "cell_type": "code",
   "execution_count": 3,
   "id": "3b9869c8",
   "metadata": {},
   "outputs": [
    {
     "name": "stdout",
     "output_type": "stream",
     "text": [
      "(78000, 180)\n",
      "(78000, 180)\n",
      "(78000, 180)\n",
      "(78000, 180)\n",
      "(78000, 180)\n",
      "(78000, 180)\n",
      "(92500, 180)\n",
      "(78000, 180)\n",
      "(92500, 180)\n",
      "(92500, 180)\n",
      "(78000, 180)\n",
      "(78000, 180)\n",
      "(92500, 180)\n",
      "(92500, 180)\n",
      "(92500, 180)\n",
      "(92500, 180)\n",
      "(92500, 180)\n",
      "(78000, 180)\n",
      "(78000, 180)\n",
      "(78000, 180)\n",
      "(92500, 180)\n",
      "(92500, 180)\n",
      "(92500, 180)\n",
      "(78000, 180)\n",
      "(78000, 180)\n",
      "(92500, 180)\n",
      "(78000, 180)\n",
      "(78000, 180)\n",
      "(78000, 180)\n",
      "(78000, 180)\n",
      "(78000, 180)\n",
      "(78000, 180)\n",
      "(92500, 180)\n",
      "(92500, 180)\n",
      "(92500, 180)\n",
      "(78000, 180)\n",
      "(78000, 180)\n",
      "(92500, 180)\n",
      "(78000, 180)\n",
      "(78000, 180)\n",
      "(92500, 180)\n",
      "(92500, 180)\n",
      "(78000, 180)\n",
      "(78000, 180)\n",
      "(92500, 180)\n",
      "(92500, 180)\n",
      "(92500, 180)\n",
      "(78000, 180)\n",
      "(78000, 180)\n",
      "(92500, 180)\n",
      "(92500, 180)\n",
      "(92500, 180)\n",
      "(92500, 180)\n",
      "(92500, 180)\n",
      "(92500, 180)\n"
     ]
    }
   ],
   "source": [
    "# Apply band-wise normalization with mask to all HSIs\n",
    "normalized_HSI_bandwise = [normalize_hsi_vector_wise_with_mask(hsi, gt) for hsi, gt in zip(HSI, GT)]\n",
    "#test = normalize_hsi_bandwise_with_mask(test, test_GT)"
   ]
  },
  {
   "cell_type": "code",
   "execution_count": 4,
   "id": "6ba92865",
   "metadata": {},
   "outputs": [],
   "source": [
    "# Train Test split\n",
    "train_indices = [\n",
    "    2, 3, 9, 10, 11, 13, 14, 15, 16, 17, 18, 19, 20, 21, 22, 23, 24, 25, \n",
    "    26, 27, 28, 29, 30, 31, 32, 33, 34, 35, 36, 37, 38, 39, 40, 42, 43, \n",
    "    44, 45, 47, 48, 49, 51, 52, 53, 54\n",
    "]\n",
    "\n",
    "test_indices = [\n",
    "    0, 1, 4, 5, 6, 7, 8, 12, 41, 46, 50\n",
    "]"
   ]
  },
  {
   "cell_type": "code",
   "execution_count": 5,
   "id": "e4ccbcbb",
   "metadata": {},
   "outputs": [
    {
     "name": "stdout",
     "output_type": "stream",
     "text": [
      "44 (240, 325, 180) (240, 325) [0 1]\n"
     ]
    }
   ],
   "source": [
    "# Train Data Generation\n",
    "Training_cubes, Training_masks, Training_rgb = Generate_data(train_indices, normalized_HSI_bandwise, GT, RGB)\n",
    "print(len(Training_cubes), Training_cubes[0].shape, Training_masks[0].shape, np.unique(Training_masks[0]))"
   ]
  },
  {
   "cell_type": "code",
   "execution_count": 6,
   "id": "6bc24a9b",
   "metadata": {},
   "outputs": [
    {
     "name": "stdout",
     "output_type": "stream",
     "text": [
      "11 (240, 325, 180) (240, 325) [0 1 2 3]\n"
     ]
    }
   ],
   "source": [
    "# Test Data Generation\n",
    "test, test_GT, test_rgb = Generate_data(test_indices, normalized_HSI_bandwise, GT, RGB)\n",
    "print(len(test),test[0].shape,test_GT[0].shape,np.unique(test_GT[0]))"
   ]
  },
  {
   "cell_type": "code",
   "execution_count": 7,
   "id": "3d9056ab",
   "metadata": {},
   "outputs": [
    {
     "name": "stdout",
     "output_type": "stream",
     "text": [
      "Total cubes: 44\n",
      "Training cubes: 39\n",
      "Validation cubes: 5\n",
      "Overall strat labels: Counter({'medium': 34, 'low': 10})\n",
      "Training strat labels: Counter({'medium': 30, 'low': 9})\n",
      "Validation strat labels: Counter({'medium': 4, 'low': 1})\n"
     ]
    }
   ],
   "source": [
    "# Compute a stratification label for each cube based on its corresponding mask.\n",
    "strat_labels = [get_strat_label(compute_foreground_ratio(mask))\n",
    "                for mask in Training_masks]\n",
    "\n",
    "# Use scikit-learn's train_test_split with stratification.\n",
    "# Note: With 44 cubes, 10% corresponds to about 4 cubes.\n",
    "indices = np.arange(len(Training_cubes))\n",
    "train_idx, val_idx = train_test_split(indices, test_size=0.1,\n",
    "                                      stratify=strat_labels, random_state=42)\n",
    "\n",
    "# Create the training and validation sets.\n",
    "Training_cubes2 = [Training_cubes[i] for i in train_idx]\n",
    "Training_masks2  = [Training_masks[i] for i in train_idx]\n",
    "training_rgb = [Training_rgb[i] for i in train_idx]\n",
    "\n",
    "Validation_cubes = [Training_cubes[i] for i in val_idx]\n",
    "Validation_masks  = [Training_masks[i] for i in val_idx]\n",
    "validation_rgb = [Training_rgb[i] for i in val_idx]\n",
    "\n",
    "# Optional: Print the number of cubes in each set and the stratification distribution.\n",
    "print(\"Total cubes:\", len(Training_cubes))\n",
    "print(\"Training cubes:\", len(Training_cubes2))\n",
    "print(\"Validation cubes:\", len(Validation_cubes))\n",
    "\n",
    "from collections import Counter\n",
    "print(\"Overall strat labels:\", Counter(strat_labels))\n",
    "print(\"Training strat labels:\", Counter([strat_labels[i] for i in train_idx]))\n",
    "print(\"Validation strat labels:\", Counter([strat_labels[i] for i in val_idx]))"
   ]
  },
  {
   "cell_type": "code",
   "execution_count": 10,
   "id": "1069fd7a",
   "metadata": {},
   "outputs": [
    {
     "data": {
      "text/plain": [
       "((290043, 9, 9, 180), (290043, 9, 9, 3), (290043,), 1, 5)"
      ]
     },
     "execution_count": 10,
     "metadata": {},
     "output_type": "execute_result"
    }
   ],
   "source": [
    "# Creating HSI-RGB patches  for MFT training data\n",
    "patch_size = 9\n",
    "training_patches, training_rgb, training_label = create_hsi_rgb_patches_with_labels(Training_cubes2, Training_masks2, training_rgb, patch_size=patch_size, fill_value_X = 0, ignore_classes=[0, 7, 8])\n",
    "training_patches.shape, training_rgb.shape, training_label.shape, np.min(training_label), np.max(training_label)"
   ]
  },
  {
   "cell_type": "code",
   "execution_count": 11,
   "id": "980eeab9",
   "metadata": {},
   "outputs": [
    {
     "data": {
      "text/plain": [
       "(array([1, 2, 3, 4, 5], dtype=uint8), 1, 5)"
      ]
     },
     "execution_count": 11,
     "metadata": {},
     "output_type": "execute_result"
    }
   ],
   "source": [
    "np.unique(training_label), np.min(training_label), np.max(training_label)"
   ]
  },
  {
   "cell_type": "code",
   "execution_count": 12,
   "id": "b95a47ce",
   "metadata": {},
   "outputs": [
    {
     "data": {
      "text/plain": [
       "((41811, 9, 9, 180), (41811, 9, 9, 3), (41811,), 1, 5)"
      ]
     },
     "execution_count": 12,
     "metadata": {},
     "output_type": "execute_result"
    }
   ],
   "source": [
    "# Creating HSI-RGB patches  for MFT validation data\n",
    "\n",
    "validation_patches,validation_rgb, validation_label = create_hsi_rgb_patches_with_labels(Validation_cubes, Validation_masks, validation_rgb, patch_size=patch_size, fill_value_X = 0, ignore_classes=[0, 7, 8])\n",
    "validation_patches.shape, validation_rgb.shape, validation_label.shape, np.min(validation_label), np.max(validation_label)"
   ]
  },
  {
   "cell_type": "code",
   "execution_count": 13,
   "id": "6ac19638",
   "metadata": {},
   "outputs": [],
   "source": [
    "# training_label = training_label - 1\n",
    "# np.unique(training_label), np.min(training_label), np.max(training_label)"
   ]
  },
  {
   "cell_type": "code",
   "execution_count": 14,
   "id": "c27c208b",
   "metadata": {},
   "outputs": [
    {
     "data": {
      "text/plain": [
       "((92315, 9, 9, 180), (92315, 9, 9, 3), (92315,))"
      ]
     },
     "execution_count": 14,
     "metadata": {},
     "output_type": "execute_result"
    }
   ],
   "source": [
    "# Creating HSI-RGB patches  for MFT testing data\n",
    "\n",
    "testing_patches, testing_rgb, testing_label = create_hsi_rgb_patches_with_labels(test, test_GT,test_rgb, patch_size=patch_size, fill_value_X = 0, ignore_classes=[0])\n",
    "testing_patches.shape, testing_rgb.shape, testing_label.shape"
   ]
  },
  {
   "cell_type": "code",
   "execution_count": 15,
   "id": "46402257",
   "metadata": {},
   "outputs": [],
   "source": [
    "# testing_label = testing_label - 1\n",
    "# np.unique(testing_label), np.min(testing_label), np.max(testing_label)"
   ]
  },
  {
   "cell_type": "code",
   "execution_count": 16,
   "id": "272ccc10",
   "metadata": {},
   "outputs": [
    {
     "data": {
      "text/plain": [
       "((290043, 81, 180), (41811, 81, 180), (92315, 81, 180))"
      ]
     },
     "execution_count": 16,
     "metadata": {},
     "output_type": "execute_result"
    }
   ],
   "source": [
    "# Model's Input Data Modification/Tokenization (HSI)\n",
    "training_patches_reshaped = training_patches.reshape(training_patches.shape[0], 81, 180)\n",
    "validation_patches_reshaped = validation_patches.reshape(validation_patches.shape[0], 81, 180)\n",
    "testing_patches_reshaped = testing_patches.reshape(testing_patches.shape[0], 81, 180)\n",
    "training_patches_reshaped.shape, validation_patches_reshaped.shape, testing_patches_reshaped.shape"
   ]
  },
  {
   "cell_type": "code",
   "execution_count": 17,
   "id": "a073be3c",
   "metadata": {},
   "outputs": [
    {
     "data": {
      "text/plain": [
       "((290043, 81, 3), (41811, 81, 3), (92315, 81, 3))"
      ]
     },
     "execution_count": 17,
     "metadata": {},
     "output_type": "execute_result"
    }
   ],
   "source": [
    "# Model's Input Data Modification/Tokenization (RGB)\n",
    "training_rgb_reshaped = training_rgb.reshape(training_rgb.shape[0], 81, 3)\n",
    "validation_rgb_reshaped = validation_rgb.reshape(validation_rgb.shape[0], 81, 3)\n",
    "testing_rgb_reshaped = testing_rgb.reshape(testing_rgb.shape[0], 81, 3)\n",
    "training_rgb_reshaped.shape, validation_rgb_reshaped.shape, testing_rgb_reshaped.shape"
   ]
  },
  {
   "cell_type": "code",
   "execution_count": 18,
   "id": "d9de7db4",
   "metadata": {},
   "outputs": [],
   "source": [
    "# Saving patches\n",
    "np.save('MFT_patches/training_patches_vector_norm.npy', training_patches_reshaped)\n",
    "np.save('MFT_patches/training_rgb_patches.npy', training_rgb_reshaped)\n",
    "np.save('MFT_patches/training_labels.npy', training_label)\n",
    "\n",
    "np.save('MFT_patches/validation_patches_vector_norm.npy', validation_patches_reshaped)\n",
    "np.save('MFT_patches/validation_rgb_patches.npy', validation_rgb_reshaped)\n",
    "np.save('MFT_patches/validation_labels.npy', validation_label)\n",
    "\n",
    "np.save('MFT_patches/testing_patches_vector_norm.npy', testing_patches_reshaped)\n",
    "np.save('MFT_patches/testing_rgb_patches.npy', testing_rgb_reshaped)\n",
    "np.save('MFT_patches/testing_labels.npy', testing_label)"
   ]
  },
  {
   "cell_type": "code",
   "execution_count": 19,
   "id": "0bc254b9",
   "metadata": {},
   "outputs": [
    {
     "data": {
      "text/plain": [
       "(92315, 81, 180)"
      ]
     },
     "execution_count": 19,
     "metadata": {},
     "output_type": "execute_result"
    }
   ],
   "source": [
    "# Check\n",
    "x = np.load('MFT_patches/testing_patches_vector_norm.npy')\n",
    "x.shape"
   ]
  }
 ],
 "metadata": {
  "kernelspec": {
   "display_name": "Python 3 (ipykernel)",
   "language": "python",
   "name": "python3"
  },
  "language_info": {
   "codemirror_mode": {
    "name": "ipython",
    "version": 3
   },
   "file_extension": ".py",
   "mimetype": "text/x-python",
   "name": "python",
   "nbconvert_exporter": "python",
   "pygments_lexer": "ipython3",
   "version": "3.8.13"
  }
 },
 "nbformat": 4,
 "nbformat_minor": 5
}
