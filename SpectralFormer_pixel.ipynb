{
 "cells": [
  {
   "cell_type": "code",
   "execution_count": null,
   "id": "6bf3fa4c",
   "metadata": {},
   "outputs": [],
   "source": [
    "# Importing Libraries\n",
    "\n",
    "from spectral import *\n",
    "from functions.dataset_functions import *\n",
    "from functions.final_functions import * \n",
    "\n",
    "from models.models import *\n",
    "from functions.augmentations import *\n"
   ]
  },
  {
   "cell_type": "code",
   "execution_count": null,
   "id": "8e5e78bb",
   "metadata": {},
   "outputs": [
    {
     "name": "stdout",
     "output_type": "stream",
     "text": [
      "(250, 370, 360) (250, 370, 3) (250, 370)\n",
      "(250, 370, 180) (250, 370, 3) (250, 370)\n",
      "11 (240, 325, 180) (240, 325) [0 1 2 3]\n"
     ]
    }
   ],
   "source": [
    "# Loading Electrolyzers-HSI\n",
    "output_dir = \"Path to Electrolyzers dataset/Electrolyzers-HSI\"\n",
    "\n",
    "HSI, RGB, GT = load_triplets(output_dir)\n",
    "print(HSI[50].shape,  RGB[50].shape, GT[50].shape)\n",
    "\n",
    "# Spectral Binning 360 bands --> 180 bands\n",
    "HSI = spectral_binning(HSI)\n",
    "print(HSI[50].shape,  RGB[50].shape, GT[50].shape)\n",
    "\n",
    "# Apply vector-wise normalization with mask to all HSIs\n",
    "normalized_HSI_bandwise = [normalize_hsi_vector_wise_with_mask(hsi, gt) for hsi, gt in zip(HSI, GT)]\n",
    "\n",
    "# Test split\n",
    "test_indices = [0, 1, 4, 5, 6, 7, 8, 12, 41, 46, 50]\n",
    "# Test Data Generation\n",
    "test, test_GT, test_rgb = Generate_data(test_indices, normalized_HSI_bandwise, GT, RGB)\n",
    "print(len(test),test[0].shape,test_GT[0].shape,np.unique(test_GT[0]))"
   ]
  },
  {
   "cell_type": "code",
   "execution_count": 6,
   "id": "681ed05a",
   "metadata": {},
   "outputs": [
    {
     "name": "stdout",
     "output_type": "stream",
     "text": [
      "Test set is finished \n",
      "\n",
      "Test patches: Original - 92315\n"
     ]
    }
   ],
   "source": [
    "# Setup the Test Dastset and Dataloader Classes\n",
    "from torch.utils.data import DataLoader\n",
    "from models.models import HSIDataset\n",
    "\n",
    "# Set parameters\n",
    "patch_size = 1 \n",
    "band_patch = 1 \n",
    "num_classes = 5\n",
    "\n",
    "# Test Dataset Class instance\n",
    "test_dataset = HSIDataset(test, test_GT, patch_size, ignore_classes=[0], band_patch = band_patch)\n",
    "print(f\"Test patches: Original - {test_dataset.get_original_patch_count()}\")\n",
    "\n",
    "# Test Dataloader Class instance\n",
    "label_test_loader = DataLoader(test_dataset, batch_size=256, shuffle=False)"
   ]
  },
  {
   "cell_type": "code",
   "execution_count": null,
   "id": "4c561599",
   "metadata": {},
   "outputs": [
    {
     "name": "stdout",
     "output_type": "stream",
     "text": [
      "5\n",
      "[0 1 2 3 4] [0 1 2 3 4]\n",
      "F1 Score:\n",
      "[0.78880138 0.54669361 0.52062478 0.36466209 0.30705489]\n"
     ]
    },
    {
     "data": {
      "text/plain": [
       "{'confusion_matrix_sum': array([[32049,   154,  3667,   631,   413],\n",
       "        [ 3015,  7982,   547,   324,   573],\n",
       "        [ 5043,    81,  7983,  1686,  1230],\n",
       "        [ 2166,   644,   939,  3135,  3265],\n",
       "        [ 2073,  7899,  1508,  1269,  4039]]),\n",
       " 'true_positive_sum': array([32049,  7982,  7983,  3135,  4039]),\n",
       " 'true_negative_sum': array([0, 0, 0, 0, 0]),\n",
       " 'false_positive_sum': array([12297,  8778,  6661,  3910,  5481]),\n",
       " 'false_negative_sum': array([ 4865,  4459,  8040,  7014, 12749]),\n",
       " 'precision': array([0.72270329, 0.47625298, 0.54513794, 0.44499645, 0.42426471]),\n",
       " 'recall': array([0.86820718, 0.6415883 , 0.49822131, 0.30889743, 0.24058852]),\n",
       " 'f1_score': array([0.78880138, 0.54669361, 0.52062478, 0.36466209, 0.30705489]),\n",
       " 'pixel_accuracy_per_class': array([0.86820718, 0.6415883 , 0.49822131, 0.30889743, 0.24058852]),\n",
       " 'pixel_accuracy (OA)': 0.5978226723717706,\n",
       " 'iou': array([0.65125683, 0.3761723 , 0.35192206, 0.22298883, 0.18137321]),\n",
       " 'dice_coefficient': array([0.78880138, 0.54669361, 0.52062478, 0.36466209, 0.30705489]),\n",
       " 'kappa': 0.44814021827719963,\n",
       " 'average_accuracy (AA)': 0.5115005463645323}"
      ]
     },
     "execution_count": 7,
     "metadata": {},
     "output_type": "execute_result"
    }
   ],
   "source": [
    "# Environment Setup and Model Calling and Hyperparameters\n",
    "from models.models import ViT\n",
    "print(num_classes)\n",
    "device = torch.device('cuda' if torch.cuda.is_available() else 'cpu')\n",
    "num_epochs = 200\n",
    "np.random.seed(0)\n",
    "torch.manual_seed(0)\n",
    "torch.cuda.manual_seed(0)\n",
    "hsi_bands = test[0].shape[-1]\n",
    "\n",
    "model = ViT(\n",
    "    image_size = patch_size, # \n",
    "    near_band = band_patch, #  GSE\n",
    "    num_patches = hsi_bands, # \n",
    "    num_classes = num_classes,\n",
    "    dim = 64, # units for embeddings\n",
    "    depth = 5, # VIT encoders layers\n",
    "    heads = 4, # \n",
    "    mlp_dim = 8,\n",
    "    dropout = 0.5,\n",
    "    emb_dropout = 0.2,\n",
    "    mode = 'CAF' # 'ViT' for ViT and 'CAF' for SpectralFormer\n",
    ")\n",
    "model = model.cuda()\n",
    "\n",
    "# The path to the trained SpectralFormer Pixel-wise weights\n",
    "path = 'weights/SF_pixel_180_vector_norm_1bands.pth' \n",
    "\n",
    "# Load the trained SpectralFormer Pixel-wise weights\n",
    "model.load_state_dict(torch.load(path))\n",
    "\n",
    "# Move the model to the GPU if available\n",
    "model.to(device)\n",
    "\n",
    "# Set the model in evaluation mode: disables certain training-related features\n",
    "model.eval()\n",
    "\n",
    "# Initialize lists to store predicted masks\n",
    "predictions = []\n",
    "all_labels = []\n",
    "# Iterate over the test images and their ground truth masks\n",
    "for patch, label in label_test_loader:\n",
    "        \n",
    "    # Move the data to GPU\n",
    "    patch = patch.to(device)  # Transfer the image data to the specified device\n",
    "    #masks = masks.type(torch.LongTensor)  # Convert the ground truth masks to LongTensor format\n",
    "    label = label.to(device)  # Transfer the ground truth masks to the specified device\n",
    "\n",
    "    # Perform inference\n",
    "    with torch.no_grad():  # Forward pass the images through the model to obtain the predictions\n",
    "        output = model(patch)  # Forward pass the images through the model to obtain the predictions \n",
    "\n",
    "    output = torch.nn.functional.softmax(output, dim=1)\n",
    "    output = torch.argmax(output, dim=1)\n",
    "    # Transfer the output to CPU memory and convert it to a numpy array\n",
    "    predicted_label = output.cpu().numpy()  \n",
    "    \n",
    "    # Append the predicted mask to the list\n",
    "    predictions.append(predicted_label)\n",
    "    all_labels.append(label.cpu().flatten())\n",
    "    \n",
    "\n",
    "predictions = np.concatenate(predictions)\n",
    "testing_label = np.concatenate(all_labels)\n",
    "print(np.unique(predictions), np.unique(testing_label))\n",
    "\n",
    "confusion_matrix_sum, true_positive_sum, true_negative_sum, false_positive_sum, false_negative_sum, precision, recall, f1_score, pixel_accuracy_per_class, pixel_accuracy, iou, dice_coefficient, kappa = evaluate_segmentation(testing_label, predictions, 5)\n",
    "\n",
    "print(\"F1 Score:\")\n",
    "print(f1_score)\n",
    "evaluate_segmentation2(testing_label, predictions, 5)"
   ]
  },
  {
   "cell_type": "code",
   "execution_count": 9,
   "id": "0e25703d",
   "metadata": {},
   "outputs": [
    {
     "data": {
      "text/plain": [
       "<Figure size 864x576 with 0 Axes>"
      ]
     },
     "metadata": {},
     "output_type": "display_data"
    },
    {
     "data": {
      "image/png": "[encoded data removed]",
      "text/plain": [
       "<Figure size 864x576 with 1 Axes>"
      ]
     },
     "metadata": {
      "needs_background": "light"
     },
     "output_type": "display_data"
    },
    {
     "data": {
      "text/plain": [
       "<Figure size 864x576 with 0 Axes>"
      ]
     },
     "metadata": {},
     "output_type": "display_data"
    },
    {
     "data": {
      "image/png": "[encoded data removed]",
      "text/plain": [
       "<Figure size 864x576 with 1 Axes>"
      ]
     },
     "metadata": {
      "needs_background": "light"
     },
     "output_type": "display_data"
    },
    {
     "data": {
      "text/plain": [
       "<Figure size 864x576 with 0 Axes>"
      ]
     },
     "metadata": {},
     "output_type": "display_data"
    },
    {
     "data": {
      "image/png": "[encoded data removed]",
      "text/plain": [
       "<Figure size 864x576 with 1 Axes>"
      ]
     },
     "metadata": {
      "needs_background": "light"
     },
     "output_type": "display_data"
    },
    {
     "data": {
      "text/plain": [
       "<Figure size 864x576 with 0 Axes>"
      ]
     },
     "metadata": {},
     "output_type": "display_data"
    },
    {
     "data": {
      "image/png": "[encoded data removed]",
      "text/plain": [
       "<Figure size 864x576 with 1 Axes>"
      ]
     },
     "metadata": {
      "needs_background": "light"
     },
     "output_type": "display_data"
    }
   ],
   "source": [
    "# Spectral-Former Pixel-wise Classification Results Visualization\n",
    "\n",
    "import matplotlib.pyplot as plt\n",
    "# test_indices = [0, 1, 4, 5, 6, 7, 8, 12, 41, 46, 50]\n",
    "prediction_masks = reconstruct_predictions(test_GT, predictions)\n",
    "plt.figure(figsize=(12,8))\n",
    "visualize_mask(prediction_masks[test_indices.index(0)])\n",
    "plt.figure(figsize=(12,8))\n",
    "visualize_mask(prediction_masks[test_indices.index(46)])\n",
    "plt.figure(figsize=(12,8))\n",
    "visualize_mask(prediction_masks[test_indices.index(41)])\n",
    "plt.figure(figsize=(12,8))\n",
    "visualize_mask(prediction_masks[test_indices.index(5)])\n"
   ]
  },
  {
   "cell_type": "code",
   "execution_count": 10,
   "id": "29ded8e2",
   "metadata": {},
   "outputs": [
    {
     "data": {
      "text/plain": [
       "<Figure size 864x576 with 0 Axes>"
      ]
     },
     "metadata": {},
     "output_type": "display_data"
    },
    {
     "data": {
      "text/plain": [
       "<Figure size 864x576 with 0 Axes>"
      ]
     },
     "metadata": {},
     "output_type": "display_data"
    },
    {
     "data": {
      "image/png": "[encoded data removed]",
      "text/plain": [
       "<Figure size 864x576 with 1 Axes>"
      ]
     },
     "metadata": {
      "needs_background": "light"
     },
     "output_type": "display_data"
    },
    {
     "data": {
      "text/plain": [
       "<Figure size 864x576 with 0 Axes>"
      ]
     },
     "metadata": {},
     "output_type": "display_data"
    },
    {
     "data": {
      "image/png": "[encoded data removed]",
      "text/plain": [
       "<Figure size 864x576 with 1 Axes>"
      ]
     },
     "metadata": {
      "needs_background": "light"
     },
     "output_type": "display_data"
    },
    {
     "data": {
      "text/plain": [
       "<Figure size 864x576 with 0 Axes>"
      ]
     },
     "metadata": {},
     "output_type": "display_data"
    },
    {
     "data": {
      "image/png": "[encoded data removed]",
      "text/plain": [
       "<Figure size 864x576 with 1 Axes>"
      ]
     },
     "metadata": {
      "needs_background": "light"
     },
     "output_type": "display_data"
    },
    {
     "data": {
      "text/plain": [
       "<Figure size 864x576 with 0 Axes>"
      ]
     },
     "metadata": {},
     "output_type": "display_data"
    },
    {
     "data": {
      "image/png": "[encoded data removed]",
      "text/plain": [
       "<Figure size 864x576 with 1 Axes>"
      ]
     },
     "metadata": {
      "needs_background": "light"
     },
     "output_type": "display_data"
    }
   ],
   "source": [
    "# Majority voting from zero-shot segmentation masks\n",
    "\n",
    "objects = []\n",
    "for i in test_indices:\n",
    "    objects.append(load_and_decompress(\"zero-shot/\" + str(i) +\".pkl\"))\n",
    "    \n",
    "# Apply with debugging\n",
    "majority_voted_masks = majority_voting_with_segmentation(prediction_masks, objects, area = 10)\n",
    "\n",
    "# Visualization (assuming your visualize_mask function works)\n",
    "test_indices = [0, 1, 4, 5, 6, 7, 8, 12, 41, 46, 50]\n",
    "plt.figure(figsize=(12,8))\n",
    "for idx in [0, 46, 41, 5]:\n",
    "    plt.figure(figsize=(12,8))\n",
    "    visualize_mask(majority_voted_masks[test_indices.index(idx)])\n",
    "plt.show()"
   ]
  },
  {
   "cell_type": "code",
   "execution_count": 11,
   "id": "a50eadce",
   "metadata": {},
   "outputs": [
    {
     "name": "stdout",
     "output_type": "stream",
     "text": [
      "Average F1-score: 0.7292\n",
      "F1-scores per class: ['0.9992', '0.8226', '0.7384', '0.6315', '0.4541']\n",
      "Average Accuracy (AA): 0.7035\n",
      "Kappa: 0.8628\n",
      "Pixel Accuracy (OA): 0.9802\n"
     ]
    }
   ],
   "source": [
    "# Spectral-Former Patch-wise Object-wise Classification Numerical Evaluation\n",
    "\n",
    "metrics = calculate_segmentation_metrics(test_GT, majority_voted_masks)\n",
    "print(f\"Average F1-score: {metrics['average_f1_score']:.4f}\")\n",
    "print(f\"F1-scores per class: {[f'{score:.4f}' for score in metrics['f1_scores_per_class']]}\")\n",
    "print(f\"Average Accuracy (AA): {metrics['average_accuracy']:.4f}\")\n",
    "print(f\"Kappa: {metrics['kappa']:.4f}\")\n",
    "print(f\"Pixel Accuracy (OA): {metrics['pixel_accuracy']:.4f}\")\n"
   ]
  }
 ],
 "metadata": {
  "kernelspec": {
   "display_name": "Python 3 (ipykernel)",
   "language": "python",
   "name": "python3"
  },
  "language_info": {
   "codemirror_mode": {
    "name": "ipython",
    "version": 3
   },
   "file_extension": ".py",
   "mimetype": "text/x-python",
   "name": "python",
   "nbconvert_exporter": "python",
   "pygments_lexer": "ipython3",
   "version": "3.8.13"
  }
 },
 "nbformat": 4,
 "nbformat_minor": 5
}
