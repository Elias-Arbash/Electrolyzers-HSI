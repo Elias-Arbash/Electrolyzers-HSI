{
 "cells": [
  {
   "cell_type": "code",
   "execution_count": null,
   "id": "71890d54",
   "metadata": {},
   "outputs": [],
   "source": [
    "# Importing Libraries\n",
    "\n",
    "from functions.final_functions import * \n",
    "from spectral import *\n",
    "from functions.dataset_functions import *\n",
    "from models.models import *\n",
    "from functions.augmentations import *\n"
   ]
  },
  {
   "cell_type": "code",
   "execution_count": null,
   "id": "085f58dc",
   "metadata": {},
   "outputs": [
    {
     "name": "stdout",
     "output_type": "stream",
     "text": [
      "(250, 370, 360) (250, 370, 3) (250, 370)\n",
      "(250, 370, 180) (250, 370, 3) (250, 370)\n",
      "11 (240, 325, 180) (240, 325) [0 1 2 3]\n"
     ]
    }
   ],
   "source": [
    "# Loading Electrolyzers-HSI\n",
    "\n",
    "output_dir = \"Path to Electrolyzers dataset/Electrolyzers-HSI\"\n",
    "\n",
    "HSI, RGB, GT = load_triplets(output_dir)\n",
    "print(HSI[50].shape,  RGB[50].shape, GT[50].shape)\n",
    "\n",
    "# Spectral Binning 360 bands --> 180 bands\n",
    "HSI = spectral_binning(HSI)\n",
    "print(HSI[50].shape,  RGB[50].shape, GT[50].shape)\n",
    "\n",
    "# Apply vector-wise normalization with mask to all HSIs\n",
    "normalized_HSI_bandwise = [normalize_hsi_vector_wise_with_mask(hsi, gt) for hsi, gt in zip(HSI, GT)]\n",
    "\n",
    "# Test split\n",
    "test_indices = [0, 1, 4, 5, 6, 7, 8, 12, 41, 46, 50]\n",
    "# Test Data Generation\n",
    "test, test_GT, test_rgb = Generate_data(test_indices, normalized_HSI_bandwise, GT, RGB)\n",
    "print(len(test),test[0].shape,test_GT[0].shape,np.unique(test_GT[0]))"
   ]
  },
  {
   "cell_type": "code",
   "execution_count": 6,
   "id": "e28d5b6b",
   "metadata": {},
   "outputs": [
    {
     "name": "stdout",
     "output_type": "stream",
     "text": [
      "Test set is finished \n",
      "\n",
      "Test patches: Original - 92315\n"
     ]
    }
   ],
   "source": [
    "# Setup the Test Dastset and Dataloader Classes\n",
    "\n",
    "from torch.utils.data import DataLoader\n",
    "from models.models import HSIDataset\n",
    "\n",
    "# Set parameters\n",
    "patch_size = 9 \n",
    "band_patch = 1 \n",
    "num_classes = 5\n",
    "\n",
    "# Test Dataset Class instance\n",
    "test_dataset = HSIDataset(test, test_GT, patch_size, ignore_classes=[0], band_patch = band_patch)\n",
    "\n",
    "# Test Dataloader Class instance\n",
    "label_test_loader = DataLoader(test_dataset, batch_size=256, shuffle=False)"
   ]
  },
  {
   "cell_type": "code",
   "execution_count": null,
   "id": "aedbabe1",
   "metadata": {},
   "outputs": [
    {
     "name": "stdout",
     "output_type": "stream",
     "text": [
      "5\n",
      "[0 1 2 3 4] [0 1 2 3 4]\n",
      "F1 Score:\n",
      "[0.75878076 0.27422378 0.45767872 0.31737346 0.38484915]\n"
     ]
    },
    {
     "data": {
      "text/plain": [
       "{'confusion_matrix_sum': array([[27134,  3467,  3867,  1942,   504],\n",
       "        [ 1275,  4023,  1148,  1202,  4793],\n",
       "        [ 3746,  2531,  7516,   899,  1331],\n",
       "        [ 1559,  1399,  1814,  3016,  2361],\n",
       "        [  892,  5480,  2476,  1798,  6142]]),\n",
       " 'true_positive_sum': array([27134,  4023,  7516,  3016,  6142]),\n",
       " 'true_negative_sum': array([0, 0, 0, 0, 0]),\n",
       " 'false_positive_sum': array([ 7472, 12877,  9305,  5841,  8989]),\n",
       " 'false_negative_sum': array([ 9780,  8418,  8507,  7133, 10646]),\n",
       " 'precision': array([0.78408368, 0.23804734, 0.44682242, 0.34052162, 0.40592162]),\n",
       " 'recall': array([0.73505987, 0.32336629, 0.4690757 , 0.29717214, 0.36585656]),\n",
       " 'f1_score': array([0.75878076, 0.27422378, 0.45767872, 0.31737346, 0.38484915]),\n",
       " 'pixel_accuracy_per_class': array([0.73505987, 0.32336629, 0.4690757 , 0.29717214, 0.36585656]),\n",
       " 'pixel_accuracy (OA)': 0.5181281481882685,\n",
       " 'iou': array([0.61131888, 0.15889881, 0.29674668, 0.18861789, 0.23827443]),\n",
       " 'dice_coefficient': array([0.75878076, 0.27422378, 0.45767872, 0.31737346, 0.38484915]),\n",
       " 'kappa': 0.36044446338549146,\n",
       " 'average_accuracy (AA)': 0.43810611216843914}"
      ]
     },
     "execution_count": 7,
     "metadata": {},
     "output_type": "execute_result"
    }
   ],
   "source": [
    "# Environment Setup and Model Calling and Hyperparameters\n",
    "from models.models import ViT\n",
    "device = torch.device('cuda' if torch.cuda.is_available() else 'cpu')\n",
    "num_epochs = 200\n",
    "np.random.seed(0)\n",
    "torch.manual_seed(0)\n",
    "torch.cuda.manual_seed(0)\n",
    "hsi_bands = test[0].shape[-1]\n",
    "\n",
    "model = ViT(\n",
    "    image_size = patch_size, \n",
    "    near_band = band_patch, \n",
    "    num_patches = hsi_bands, \n",
    "    num_classes = num_classes,\n",
    "    dim = 64, \n",
    "    depth = 5, \n",
    "    heads = 4, \n",
    "    mlp_dim = 8,\n",
    "    dropout = 0.5, \n",
    "    emb_dropout = 0.2, \n",
    "    mode = 'ViT'\n",
    ")\n",
    "model = model.cuda()\n",
    "\n",
    "# The path to the trained VisionTransformer weights\n",
    "path = 'weights/ViT_180.pth' # or others\n",
    "\n",
    "# Load the trained VisionTransformer weights\n",
    "model.load_state_dict(torch.load(path))\n",
    "\n",
    "# Move the model to the GPU if available\n",
    "model.to(device)\n",
    "\n",
    "# Set the model in evaluation mode: disables certain training-related features\n",
    "model.eval()\n",
    "\n",
    "# Initialize lists to store predicted masks\n",
    "predictions = []\n",
    "all_labels = []\n",
    "# Iterate over the test images and their ground truth masks\n",
    "for patch, label in label_test_loader:\n",
    "        \n",
    "    # Move the data to GPU\n",
    "    patch = patch.to(device)  # Transfer the image data to the specified device\n",
    "    #masks = masks.type(torch.LongTensor)  # Convert the ground truth masks to LongTensor format\n",
    "    label = label.to(device)  # Transfer the ground truth masks to the specified device\n",
    "\n",
    "#     # Perform inference\n",
    "    with torch.no_grad():  # Forward pass the images through the model to obtain the predictions\n",
    "        output = model(patch)  # Forward pass the images through the model to obtain the predictions \n",
    "\n",
    "    output = torch.nn.functional.softmax(output, dim=1)\n",
    "    output = torch.argmax(output, dim=1)\n",
    "    # Transfer the output to CPU memory and convert it to a numpy array\n",
    "    predicted_label = output.cpu().numpy()  \n",
    "    \n",
    "    # Append the predicted mask to the list\n",
    "    predictions.append(predicted_label)\n",
    "    all_labels.append(label.cpu().flatten())\n",
    "    \n",
    "\n",
    "predictions = np.concatenate(predictions)\n",
    "testing_label = np.concatenate(all_labels)\n",
    "#print(np.unique(predictions), np.unique(testing_label))\n",
    "\n",
    "confusion_matrix_sum, true_positive_sum, true_negative_sum, false_positive_sum, false_negative_sum, precision, recall, f1_score, pixel_accuracy_per_class, pixel_accuracy, iou, dice_coefficient, kappa = evaluate_segmentation(testing_label, predictions, 5)\n",
    "\n",
    "print(\"F1 Score:\")\n",
    "print(f1_score)\n",
    "evaluate_segmentation2(testing_label, predictions, 5)"
   ]
  },
  {
   "cell_type": "code",
   "execution_count": 9,
   "id": "1f73995e",
   "metadata": {},
   "outputs": [
    {
     "data": {
      "text/plain": [
       "<Figure size 864x576 with 0 Axes>"
      ]
     },
     "metadata": {},
     "output_type": "display_data"
    },
    {
     "data": {
      "image/png": "[encoded data removed]",
      "text/plain": [
       "<Figure size 864x576 with 1 Axes>"
      ]
     },
     "metadata": {
      "needs_background": "light"
     },
     "output_type": "display_data"
    },
    {
     "data": {
      "text/plain": [
       "<Figure size 864x576 with 0 Axes>"
      ]
     },
     "metadata": {},
     "output_type": "display_data"
    },
    {
     "data": {
      "image/png": "[encoded data removed]",
      "text/plain": [
       "<Figure size 864x576 with 1 Axes>"
      ]
     },
     "metadata": {
      "needs_background": "light"
     },
     "output_type": "display_data"
    },
    {
     "data": {
      "text/plain": [
       "<Figure size 864x576 with 0 Axes>"
      ]
     },
     "metadata": {},
     "output_type": "display_data"
    },
    {
     "data": {
      "image/png": "[encoded data removed]",
      "text/plain": [
       "<Figure size 864x576 with 1 Axes>"
      ]
     },
     "metadata": {
      "needs_background": "light"
     },
     "output_type": "display_data"
    },
    {
     "data": {
      "text/plain": [
       "<Figure size 864x576 with 0 Axes>"
      ]
     },
     "metadata": {},
     "output_type": "display_data"
    },
    {
     "data": {
      "image/png": "[encoded data removed]",
      "text/plain": [
       "<Figure size 864x576 with 1 Axes>"
      ]
     },
     "metadata": {
      "needs_background": "light"
     },
     "output_type": "display_data"
    }
   ],
   "source": [
    "# VisionTransformer Classification Results Visualization\n",
    "\n",
    "import matplotlib.pyplot as plt\n",
    "\n",
    "# test_indices = [0, 1, 4, 5, 6, 7, 8, 12, 41, 46, 50]\n",
    "prediction_masks = reconstruct_predictions(test_GT, predictions)\n",
    "plt.figure(figsize=(12,8))\n",
    "visualize_mask(prediction_masks[test_indices.index(0)])\n",
    "plt.figure(figsize=(12,8))\n",
    "visualize_mask(prediction_masks[test_indices.index(46)])\n",
    "plt.figure(figsize=(12,8))\n",
    "visualize_mask(prediction_masks[test_indices.index(41)])\n",
    "plt.figure(figsize=(12,8))\n",
    "visualize_mask(prediction_masks[test_indices.index(5)])\n"
   ]
  },
  {
   "cell_type": "code",
   "execution_count": 10,
   "id": "00e9606c",
   "metadata": {},
   "outputs": [
    {
     "data": {
      "text/plain": [
       "<Figure size 864x576 with 0 Axes>"
      ]
     },
     "metadata": {},
     "output_type": "display_data"
    },
    {
     "data": {
      "text/plain": [
       "<Figure size 864x576 with 0 Axes>"
      ]
     },
     "metadata": {},
     "output_type": "display_data"
    },
    {
     "data": {
      "image/png": "[encoded data removed]",
      "text/plain": [
       "<Figure size 864x576 with 1 Axes>"
      ]
     },
     "metadata": {
      "needs_background": "light"
     },
     "output_type": "display_data"
    },
    {
     "data": {
      "text/plain": [
       "<Figure size 864x576 with 0 Axes>"
      ]
     },
     "metadata": {},
     "output_type": "display_data"
    },
    {
     "data": {
      "image/png": "[encoded data removed]",
      "text/plain": [
       "<Figure size 864x576 with 1 Axes>"
      ]
     },
     "metadata": {
      "needs_background": "light"
     },
     "output_type": "display_data"
    },
    {
     "data": {
      "text/plain": [
       "<Figure size 864x576 with 0 Axes>"
      ]
     },
     "metadata": {},
     "output_type": "display_data"
    },
    {
     "data": {
      "image/png": "[encoded data removed]",
      "text/plain": [
       "<Figure size 864x576 with 1 Axes>"
      ]
     },
     "metadata": {
      "needs_background": "light"
     },
     "output_type": "display_data"
    },
    {
     "data": {
      "text/plain": [
       "<Figure size 864x576 with 0 Axes>"
      ]
     },
     "metadata": {},
     "output_type": "display_data"
    },
    {
     "data": {
      "image/png": "[encoded data removed]",
      "text/plain": [
       "<Figure size 864x576 with 1 Axes>"
      ]
     },
     "metadata": {
      "needs_background": "light"
     },
     "output_type": "display_data"
    }
   ],
   "source": [
    "# Majority voting from zero-shot segmentation masks\n",
    "objects = []\n",
    "for i in test_indices:\n",
    "    objects.append(load_and_decompress(\"zero-shot/\" + str(i) +\".pkl\"))\n",
    "    \n",
    "# Apply with debugging\n",
    "majority_voted_masks = majority_voting_with_segmentation(prediction_masks, objects, area = 10)\n",
    "\n",
    "# Visualization (assuming your visualize_mask function works)\n",
    "test_indices = [0, 1, 4, 5, 6, 7, 8, 12, 41, 46, 50]\n",
    "plt.figure(figsize=(12,8))\n",
    "for idx in [0, 46, 41, 5]:\n",
    "    plt.figure(figsize=(12,8))\n",
    "    visualize_mask(majority_voted_masks[test_indices.index(idx)])\n",
    "plt.show()"
   ]
  },
  {
   "cell_type": "code",
   "execution_count": 11,
   "id": "05e361ed",
   "metadata": {},
   "outputs": [
    {
     "name": "stdout",
     "output_type": "stream",
     "text": [
      "Average F1-score: 0.7160\n",
      "F1-scores per class: ['0.9991', '0.8300', '0.5885', '0.6481', '0.5140']\n",
      "Average Accuracy (AA): 0.6832\n",
      "Kappa: 0.8589\n",
      "Pixel Accuracy (OA): 0.9810\n"
     ]
    }
   ],
   "source": [
    "# VisionTransformer Object-wise Classification Numerical Evaluation\n",
    "\n",
    "metrics = calculate_segmentation_metrics(test_GT, majority_voted_masks)\n",
    "print(f\"Average F1-score: {metrics['average_f1_score']:.4f}\")\n",
    "print(f\"F1-scores per class: {[f'{score:.4f}' for score in metrics['f1_scores_per_class']]}\")\n",
    "print(f\"Average Accuracy (AA): {metrics['average_accuracy']:.4f}\")\n",
    "print(f\"Kappa: {metrics['kappa']:.4f}\")\n",
    "print(f\"Pixel Accuracy (OA): {metrics['pixel_accuracy']:.4f}\")\n"
   ]
  }
 ],
 "metadata": {
  "kernelspec": {
   "display_name": "Python 3 (ipykernel)",
   "language": "python",
   "name": "python3"
  },
  "language_info": {
   "codemirror_mode": {
    "name": "ipython",
    "version": 3
   },
   "file_extension": ".py",
   "mimetype": "text/x-python",
   "name": "python",
   "nbconvert_exporter": "python",
   "pygments_lexer": "ipython3",
   "version": "3.8.13"
  }
 },
 "nbformat": 4,
 "nbformat_minor": 5
}
