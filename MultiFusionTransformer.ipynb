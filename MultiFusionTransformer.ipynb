{
 "cells": [
  {
   "cell_type": "code",
   "execution_count": null,
   "id": "e64c187d",
   "metadata": {},
   "outputs": [],
   "source": [
    "# Importing Libraries\n",
    "\n",
    "from spectral import *\n",
    "from functions.dataset_functions import *\n",
    "from functions.final_functions import * \n",
    "from models.mft_function import *"
   ]
  },
  {
   "cell_type": "code",
   "execution_count": null,
   "id": "7a0f549d",
   "metadata": {},
   "outputs": [
    {
     "name": "stderr",
     "output_type": "stream",
     "text": [
      "/opt/conda/lib/python3.8/site-packages/tqdm/auto.py:22: TqdmWarning: IProgress not found. Please update jupyter and ipywidgets. See https://ipywidgets.readthedocs.io/en/stable/user_install.html\n",
      "  from .autonotebook import tqdm as notebook_tqdm\n"
     ]
    },
    {
     "name": "stdout",
     "output_type": "stream",
     "text": [
      "(250, 370, 360) (250, 370, 3) (250, 370)\n",
      "(250, 370, 180) (250, 370, 3) (250, 370)\n",
      "11 (240, 325, 180) (240, 325) [0 1 2 3]\n"
     ]
    }
   ],
   "source": [
    "# Loading Electrolyzers-HSI\n",
    "output_dir = \"Path to Electrolyzers dataset/Electrolyzers-HSI\"\n",
    "\n",
    "HSI, RGB, GT = load_triplets(output_dir)\n",
    "print(HSI[50].shape,  RGB[50].shape, GT[50].shape)\n",
    "\n",
    "# Spectral Binning 360 bands --> 180 bands\n",
    "HSI = spectral_binning(HSI)\n",
    "print(HSI[50].shape,  RGB[50].shape, GT[50].shape)\n",
    "\n",
    "# Apply vector-wise normalization with mask to all HSIs\n",
    "normalized_HSI_bandwise = [normalize_hsi_vector_wise_with_mask(hsi, gt) for hsi, gt in zip(HSI, GT)]\n",
    "\n",
    "# Test split\n",
    "test_indices = [0, 1, 4, 5, 6, 7, 8, 12, 41, 46, 50]\n",
    "# Test Data Generation\n",
    "test, test_GT, test_rgb = Generate_data(test_indices, normalized_HSI_bandwise, GT, RGB)\n",
    "print(len(test),test[0].shape,test_GT[0].shape,np.unique(test_GT[0]))"
   ]
  },
  {
   "cell_type": "code",
   "execution_count": 5,
   "id": "0622a08d",
   "metadata": {},
   "outputs": [],
   "source": [
    "# Model calling\n",
    "\n",
    "batchsize = 512\n",
    "patchsize = 9\n",
    "model = MFT(16, 144,1, 15, False).to(\"cuda\")\n",
    "#summary(model, [(144,121),(1,121)], device = 'cuda')"
   ]
  },
  {
   "cell_type": "code",
   "execution_count": null,
   "id": "d988bcb2",
   "metadata": {},
   "outputs": [],
   "source": [
    "# Dataset Class\n",
    "\n",
    "class PlasticsDataset(Dataset):\n",
    "    def __init__(self):\n",
    "        self.patch_all = torch.from_numpy(np.reshape(np.load('MFT_patches/training_patches.npy'),(290043,81,180))).to(torch.float32)\n",
    "        self.patch_all = self.patch_all.permute(0,2,1)\n",
    "        self.patch_dsm_all = torch.from_numpy(np.reshape(np.load('MFT_patches/training_rgb_patches.npy'),(290043,81,3))).to(torch.float32)\n",
    "        self.patch_dsm_all = self.patch_dsm_all.permute(0,2,1)\n",
    "        self.label_all = np.load('MFT_patches/training_labels.npy')\n",
    "        self.label_all = torch.from_numpy(self.label_all).long() - 1\n",
    "        \n",
    "    def __len__(self):\n",
    "        return len(self.label_all)\n",
    "\n",
    "    def __getitem__(self, idx):\n",
    "        data1 = self.patch_all[idx]\n",
    "        data2 = self.patch_dsm_all[idx]\n",
    "        label = self.label_all[idx]\n",
    "        return data1, data2, label\n"
   ]
  },
  {
   "cell_type": "code",
   "execution_count": null,
   "id": "6d657ee0",
   "metadata": {},
   "outputs": [
    {
     "name": "stdout",
     "output_type": "stream",
     "text": [
      "----------------------------------Testing for  Electro  ---------------------------------------------\n",
      "NC =  180\n",
      "NCLIDAR =  3\n",
      "Classes =  5\n",
      "Let's use 1 GPUs!\n",
      "HSI Test data shape =  torch.Size([92315, 180, 81])\n",
      " Test data shape =  torch.Size([92315, 3, 81])\n",
      "Test label shape =  torch.Size([92315])\n",
      "ytest =  92315\n",
      "Number =  184\n",
      "OA =  69.29968044196501\n",
      "AA =  64.29070381430542\n",
      "kappa =  59.12340954768531\n",
      "Producer Acc 1 =  85.13\n",
      "Producer Acc 2 =  91.82\n",
      "Producer Acc 3 =  74.51\n",
      "Producer Acc 4 =  38.61\n",
      "Producer Acc 5 =  31.38\n",
      "\n",
      "Producer F1 1 =  86.03\n",
      "\n",
      "Producer F1 2 =  72.27\n",
      "\n",
      "Producer F1 3 =  75.9\n",
      "\n",
      "Producer F1 4 =  40.68\n",
      "\n",
      "Producer F1 5 =  36.04\n",
      "----------Electro Training Finished -----------\n"
     ]
    }
   ],
   "source": [
    "# Inference setup and prediction\n",
    "\n",
    "import os\n",
    "import torch\n",
    "import torch.nn as nn\n",
    "import numpy as np\n",
    "\n",
    "# Configuration\n",
    "os.environ[\"CUDA_VISIBLE_DEVICES\"] = \"1\"\n",
    "datasetNames = [\"Electro\"]\n",
    "\n",
    "patchsize = 9\n",
    "batchsize = 512\n",
    "testSizeNumber = 500\n",
    "EPOCH = 300\n",
    "BandSize = 1\n",
    "LR = 1e-6\n",
    "FM = 16\n",
    "HSIOnly = False\n",
    "FileName = 'MFT'\n",
    "\n",
    "NC = 180\n",
    "NCLIDAR = 3\n",
    "Classes = 5\n",
    "\n",
    "# Loading and tokenizing Test input data\n",
    "def load_test_data():\n",
    "    patch_all = np.load('MFT_patches/testing_patches_vector_norm.npy').reshape(92315, 81, 180)\n",
    "    patch_all = torch.from_numpy(patch_all).float().permute(0, 2, 1)\n",
    "\n",
    "    patch_dsm_all = np.load('MFT_patches/testing_rgb_patches.npy').reshape(92315, 81, 3)\n",
    "    patch_dsm_all = torch.from_numpy(patch_dsm_all).float().permute(0, 2, 1)\n",
    "\n",
    "    label_all = torch.from_numpy(np.load('MFT_patches/testing_labels.npy')).long() - 1\n",
    "\n",
    "    return patch_all, patch_dsm_all, label_all\n",
    "\n",
    "def test():\n",
    "    for BandSize in [1]:\n",
    "        for datasetName in datasetNames:\n",
    "            print(\"----------------------------------Testing for \", datasetName, \" ---------------------------------------------\")\n",
    "            os.makedirs(datasetName, exist_ok=True)\n",
    "\n",
    "            for iterNum in range(1):\n",
    "                print('NC = ', NC)\n",
    "                print('NCLIDAR = ', NCLIDAR)\n",
    "                print('Classes = ', Classes)\n",
    "\n",
    "                model = MFT(FM, NC, NCLIDAR, Classes, HSIOnly).cuda()\n",
    "                model = nn.DataParallel(model)\n",
    "                print(\"Let's use\", torch.cuda.device_count(), \"GPUs!\")\n",
    "\n",
    "                model.load_state_dict(torch.load(f'weights/net_params_{FileName}_best_vector_norm.pkl'))\n",
    "                model.eval()\n",
    "\n",
    "                test_patch1, test_patch2, test_label = load_test_data()\n",
    "                print(\"HSI Test data shape = \", test_patch1.shape)\n",
    "                print(\" Test data shape = \", test_patch2.shape)\n",
    "                print(\"Test label shape = \", test_label.shape)\n",
    "\n",
    "                confusion, oa, each_acc, each_prec, aa, kappa, each_f1, pred_y = reports(\n",
    "                    test_patch1, test_patch2, test_label, datasetName, model\n",
    "                )\n",
    "\n",
    "                print('OA = ', oa)\n",
    "                print('AA = ', aa)\n",
    "                print('kappa = ', kappa)\n",
    "\n",
    "                for i in range(5):\n",
    "                    print('Producer Acc %s = ' % str(i+1), round(each_acc[i], 2))\n",
    "                for i in range(5):\n",
    "                    print('\\nProducer F1 %s = ' % str(i+1), round(each_f1[i], 2))\n",
    "\n",
    "            print(\"----------\" + datasetName + \" Training Finished -----------\")\n",
    "\n",
    "    return pred_y\n",
    "\n",
    "pred_y = test()\n"
   ]
  },
  {
   "cell_type": "code",
   "execution_count": 12,
   "id": "35315d40",
   "metadata": {},
   "outputs": [
    {
     "data": {
      "image/png": "[encoded data removed]",
      "text/plain": [
       "<Figure size 756x576 with 1 Axes>"
      ]
     },
     "metadata": {
      "needs_background": "light"
     },
     "output_type": "display_data"
    },
    {
     "data": {
      "text/plain": [
       "<Figure size 864x576 with 0 Axes>"
      ]
     },
     "metadata": {},
     "output_type": "display_data"
    },
    {
     "data": {
      "image/png": "[encoded data removed]",
      "text/plain": [
       "<Figure size 756x576 with 1 Axes>"
      ]
     },
     "metadata": {
      "needs_background": "light"
     },
     "output_type": "display_data"
    },
    {
     "data": {
      "text/plain": [
       "<Figure size 864x576 with 0 Axes>"
      ]
     },
     "metadata": {},
     "output_type": "display_data"
    },
    {
     "data": {
      "image/png": "[encoded data removed]",
      "text/plain": [
       "<Figure size 756x576 with 1 Axes>"
      ]
     },
     "metadata": {
      "needs_background": "light"
     },
     "output_type": "display_data"
    },
    {
     "data": {
      "text/plain": [
       "<Figure size 864x576 with 0 Axes>"
      ]
     },
     "metadata": {},
     "output_type": "display_data"
    },
    {
     "data": {
      "image/png": "[encoded data removed]",
      "text/plain": [
       "<Figure size 756x576 with 1 Axes>"
      ]
     },
     "metadata": {
      "needs_background": "light"
     },
     "output_type": "display_data"
    }
   ],
   "source": [
    "# MFT Pixel-wise Classification Results Visualization\n",
    "\n",
    "import matplotlib.pyplot as plt\n",
    "pred_y2 = pred_y.cpu().numpy()\n",
    "\n",
    "prediction_masks = reconstruct_predictions(test_GT, pred_y2)\n",
    "figsize = (10.5,8)\n",
    "visualize_mask(prediction_masks[test_indices.index(0)],figsize)\n",
    "plt.figure(figsize=(12,8))\n",
    "visualize_mask(prediction_masks[test_indices.index(46)],figsize)\n",
    "plt.figure(figsize=(12,8))\n",
    "visualize_mask(prediction_masks[test_indices.index(41)],figsize)\n",
    "plt.figure(figsize=(12,8))\n",
    "visualize_mask(prediction_masks[test_indices.index(5)],figsize)"
   ]
  },
  {
   "cell_type": "code",
   "execution_count": 13,
   "id": "e8d42eeb",
   "metadata": {
    "scrolled": true
   },
   "outputs": [],
   "source": [
    "# Majority voting from zero-shot segmentation masks\n",
    "\n",
    "objects = []\n",
    "for i in test_indices:\n",
    "    objects.append(load_and_decompress(\"zero-shot/\" + str(i) +\".pkl\"))\n",
    "    \n",
    "# Apply with debugging\n",
    "majority_voted_masks = majority_voting_with_segmentation(prediction_masks, objects, area = 10)\n",
    "\n",
    "# Visualization (assuming your visualize_mask function works)\n",
    "test_indices = [0, 1, 4, 5, 6, 7, 8, 12, 41, 46, 50]\n",
    "plt.figure(figsize=(12,8))\n",
    "for idx in [0, 46, 41, 5]:\n",
    "    plt.figure(figsize=(12,8))\n",
    "    visualize_mask(majority_voted_masks[test_indices.index(idx)])\n",
    "plt.show()"
   ]
  },
  {
   "cell_type": "code",
   "execution_count": 15,
   "id": "145bd77d",
   "metadata": {},
   "outputs": [
    {
     "name": "stdout",
     "output_type": "stream",
     "text": [
      "Average F1-score: 0.7453\n",
      "F1-scores per class: ['0.9993', '0.8265', '0.8035', '0.7019', '0.3954']\n",
      "Average Accuracy (AA): 0.7455\n",
      "Pixel Accuracy (OA): 0.9816\n"
     ]
    }
   ],
   "source": [
    "# MFT Object-wise Classification Numerical Evaluation\n",
    "\n",
    "metrics = calculate_segmentation_metrics(test_GT, majority_voted_masks)\n",
    "print(f\"Average F1-score: {metrics['average_f1_score']:.4f}\")\n",
    "print(f\"F1-scores per class: {[f'{score:.4f}' for score in metrics['f1_scores_per_class']]}\")\n",
    "print(f\"Average Accuracy (AA): {metrics['average_accuracy']:.4f}\")\n",
    "print(f\"Pixel Accuracy (OA): {metrics['pixel_accuracy']:.4f}\")\n"
   ]
  }
 ],
 "metadata": {
  "kernelspec": {
   "display_name": "Python 3 (ipykernel)",
   "language": "python",
   "name": "python3"
  },
  "language_info": {
   "codemirror_mode": {
    "name": "ipython",
    "version": 3
   },
   "file_extension": ".py",
   "mimetype": "text/x-python",
   "name": "python",
   "nbconvert_exporter": "python",
   "pygments_lexer": "ipython3",
   "version": "3.8.13"
  }
 },
 "nbformat": 4,
 "nbformat_minor": 5
}
