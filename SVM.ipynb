{
 "cells": [
  {
   "cell_type": "code",
   "execution_count": null,
   "id": "cd0add78",
   "metadata": {},
   "outputs": [],
   "source": [
    "# Importing Libraries\n",
    "\n",
    "from functions.final_functions import * \n",
    "\n",
    "import numpy as np\n",
    "from spectral import *\n",
    "from functions.dataset_functions import *\n",
    "from functions.augmentations import *\n",
    "\n",
    "import dask.array as da\n",
    "from dask.distributed import Client\n",
    "# from sklearn.linear_model import SGDClassifier\n",
    "# from sklearn.preprocessing import StandardScaler\n",
    "# from sklearn.pipeline import Pipeline\n",
    "# from sklearn.decomposition import IncrementalPCA"
   ]
  },
  {
   "cell_type": "code",
   "execution_count": null,
   "id": "f1465a05",
   "metadata": {},
   "outputs": [],
   "source": [
    "# Initialize Dask client\n",
    "client = Client()\n",
    "print(client)"
   ]
  },
  {
   "cell_type": "code",
   "execution_count": null,
   "id": "a545884a",
   "metadata": {},
   "outputs": [],
   "source": [
    "# Load and preprocess data\n",
    "output_dir = \"Path to Electrolyzers dataset/Electrolyzers-HSI\"\n",
    "HSI, RGB, GT = load_triplets(output_dir)\n",
    "\n",
    "# Apply vector-wise normalization with mask to all HSIs\n",
    "normalized_HSI_bandwise = [normalize_hsi_vector_wise_with_mask(hsi, gt) for hsi, gt in zip(HSI, GT)]\n",
    "\n",
    "# Spectral Binning 360 bands --> 180 bands\n",
    "HSI = spectral_binning(normalized_HSI_bandwise) # experiement normalized_HSI_bandwise\n",
    "\n",
    "\n",
    "# Train-test split\n",
    "train_indices = [2, 3, 9, 10, 11, 13, 14, 15, 16, 17, 18, 19, 20, 21, 22, 23, 24, 25, 26, 27, 28, 29, 30, 31, 32, 33, 34, 35, 36, 37, 38, 39, 40, 42, 43, 44, 45, 47, 48, 49, 51, 52, 53, 54]\n",
    "test_indices = [0, 1, 4, 5, 6, 7, 8, 12, 41, 46, 50]"
   ]
  },
  {
   "cell_type": "code",
   "execution_count": null,
   "id": "ad2f28d7",
   "metadata": {},
   "outputs": [
    {
     "name": "stderr",
     "output_type": "stream",
     "text": [
      "/opt/conda/lib/python3.8/site-packages/dask/array/core.py:1642: FutureWarning: The `numpy.may_share_memory` function is not implemented by Dask array. You may want to use the da.map_blocks function or something similar to silence this warning. Your code may stop working in a future release.\n",
      "  warnings.warn(\n",
      "/opt/conda/lib/python3.8/site-packages/dask/array/core.py:1642: FutureWarning: The `numpy.may_share_memory` function is not implemented by Dask array. You may want to use the da.map_blocks function or something similar to silence this warning. Your code may stop working in a future release.\n",
      "  warnings.warn(\n"
     ]
    },
    {
     "name": "stdout",
     "output_type": "stream",
     "text": [
      "F1 Score: [0.80623868 0.03262715 0.15204797 0.28886909 0.0306745 ]\n"
     ]
    },
    {
     "data": {
      "text/plain": [
       "{'confusion_matrix_sum': array([[34505,   174,    62,  2025,   148],\n",
       "        [ 3995,   221,   402,  7764,    59],\n",
       "        [ 5388,    66,  1496,  8873,   200],\n",
       "        [ 2287,    61,   754,  6972,    75],\n",
       "        [ 2506,   584,   941, 12488,   269]]),\n",
       " 'true_positive_sum': array([34505,   221,  1496,  6972,   269]),\n",
       " 'true_negative_sum': array([0, 0, 0, 0, 0]),\n",
       " 'false_positive_sum': array([14176,   885,  2159, 31150,   482]),\n",
       " 'false_negative_sum': array([ 2409, 12220, 14527,  3177, 16519]),\n",
       " 'precision': array([0.70879809, 0.19981917, 0.40930233, 0.18288652, 0.35818908]),\n",
       " 'recall': array([0.93474021, 0.01776385, 0.09336579, 0.68696423, 0.01602335]),\n",
       " 'f1_score': array([0.80623868, 0.03262715, 0.15204797, 0.28886909, 0.0306745 ]),\n",
       " 'pixel_accuracy_per_class': array([0.93474021, 0.01776385, 0.09336579, 0.68696423, 0.01602335]),\n",
       " 'pixel_accuracy (OA)': 0.470811894058387,\n",
       " 'iou': array([0.67537679, 0.01658412, 0.08227918, 0.16881765, 0.01557614]),\n",
       " 'dice_coefficient': array([0.80623868, 0.03262715, 0.15204797, 0.28886909, 0.0306745 ]),\n",
       " 'kappa': 0.27880763295063854,\n",
       " 'average_accuracy (AA)': 0.3497714843881019}"
      ]
     },
     "execution_count": 6,
     "metadata": {},
     "output_type": "execute_result"
    }
   ],
   "source": [
    "# Inference \n",
    "import joblib\n",
    "# Data generation and features extraction\n",
    "test, test_GT, test_rgb = Generate_data(test_indices, normalized_HSI_bandwise, GT, RGB)\n",
    "test_X, test_y = extract_features_and_labels(test, test_GT, ignore_classes=[0])\n",
    "chunk_size = 10000\n",
    "test_X_da = da.from_array(test_X, chunks=(chunk_size, test_X.shape[1]))\n",
    "test_y_da = da.from_array(test_y, chunks=chunk_size)\n",
    "\n",
    "# Loading trained SVM model\n",
    "pipeline = joblib.load('weights/svm_vector_norm.pkl')\n",
    "\n",
    "# Using Dask Pipeline to perform the predictions\n",
    "batch_size = 50000\n",
    "test_predictions = np.concatenate([\n",
    "    pipeline.predict(test_X_da[i:i+batch_size])  \n",
    "    for i in range(0, test_X_da.shape[0], batch_size)\n",
    "])\n",
    "\n",
    "# Adjust labels if needed (ensure consistency with your dataset)\n",
    "test_predictions2 = test_predictions - 1\n",
    "test_y2 = test_y - 1\n",
    "\n",
    "# Evaluate segmentation metrics\n",
    "confusion_matrix_sum, true_positive_sum, true_negative_sum, false_positive_sum, false_negative_sum, precision, recall, f1_score, pixel_accuracy_per_class, pixel_accuracy, iou, dice_coefficient, kappa = evaluate_segmentation(test_y2, test_predictions2, 5)\n",
    "\n",
    "\n",
    "print(\"F1 Score:\", f1_score)\n",
    "# Alternative evaluation\n",
    "evaluate_segmentation2(test_y2, test_predictions2, 5)"
   ]
  },
  {
   "cell_type": "code",
   "execution_count": 8,
   "id": "3018e2cb",
   "metadata": {},
   "outputs": [
    {
     "data": {
      "text/plain": [
       "<Figure size 864x576 with 0 Axes>"
      ]
     },
     "metadata": {},
     "output_type": "display_data"
    },
    {
     "data": {
      "image/png": "[encoded data removed]",
      "text/plain": [
       "<Figure size 864x576 with 1 Axes>"
      ]
     },
     "metadata": {
      "needs_background": "light"
     },
     "output_type": "display_data"
    },
    {
     "data": {
      "text/plain": [
       "<Figure size 864x576 with 0 Axes>"
      ]
     },
     "metadata": {},
     "output_type": "display_data"
    },
    {
     "data": {
      "image/png": "[encoded data removed]",
      "text/plain": [
       "<Figure size 864x576 with 1 Axes>"
      ]
     },
     "metadata": {
      "needs_background": "light"
     },
     "output_type": "display_data"
    },
    {
     "data": {
      "text/plain": [
       "<Figure size 864x576 with 0 Axes>"
      ]
     },
     "metadata": {},
     "output_type": "display_data"
    },
    {
     "data": {
      "image/png": "[encoded data removed]",
      "text/plain": [
       "<Figure size 864x576 with 1 Axes>"
      ]
     },
     "metadata": {
      "needs_background": "light"
     },
     "output_type": "display_data"
    },
    {
     "data": {
      "text/plain": [
       "<Figure size 864x576 with 0 Axes>"
      ]
     },
     "metadata": {},
     "output_type": "display_data"
    },
    {
     "data": {
      "image/png": "[encoded data removed]",
      "text/plain": [
       "<Figure size 864x576 with 1 Axes>"
      ]
     },
     "metadata": {
      "needs_background": "light"
     },
     "output_type": "display_data"
    }
   ],
   "source": [
    "# SVM Pixel-wise Classification Results Visualization\n",
    "\n",
    "import matplotlib.pyplot as plt\n",
    "\n",
    "# test_indices = [0, 1, 4, 5, 6, 7, 8, 12, 41, 46, 50]\n",
    "prediction_masks = reconstruct_predictions(test_GT, test_predictions2)\n",
    "plt.figure(figsize=(12,8))\n",
    "visualize_mask(prediction_masks[test_indices.index(0)])\n",
    "plt.figure(figsize=(12,8))\n",
    "visualize_mask(prediction_masks[test_indices.index(46)])\n",
    "plt.figure(figsize=(12,8))\n",
    "visualize_mask(prediction_masks[test_indices.index(41)])\n",
    "plt.figure(figsize=(12,8))\n",
    "visualize_mask(prediction_masks[test_indices.index(5)])\n"
   ]
  },
  {
   "cell_type": "code",
   "execution_count": 9,
   "id": "3f512121",
   "metadata": {},
   "outputs": [
    {
     "data": {
      "text/plain": [
       "<Figure size 864x576 with 0 Axes>"
      ]
     },
     "metadata": {},
     "output_type": "display_data"
    },
    {
     "data": {
      "text/plain": [
       "<Figure size 864x576 with 0 Axes>"
      ]
     },
     "metadata": {},
     "output_type": "display_data"
    },
    {
     "data": {
      "image/png": "[encoded data removed]",
      "text/plain": [
       "<Figure size 864x576 with 1 Axes>"
      ]
     },
     "metadata": {
      "needs_background": "light"
     },
     "output_type": "display_data"
    },
    {
     "data": {
      "text/plain": [
       "<Figure size 864x576 with 0 Axes>"
      ]
     },
     "metadata": {},
     "output_type": "display_data"
    },
    {
     "data": {
      "image/png": "[encoded data removed]",
      "text/plain": [
       "<Figure size 864x576 with 1 Axes>"
      ]
     },
     "metadata": {
      "needs_background": "light"
     },
     "output_type": "display_data"
    },
    {
     "data": {
      "text/plain": [
       "<Figure size 864x576 with 0 Axes>"
      ]
     },
     "metadata": {},
     "output_type": "display_data"
    },
    {
     "data": {
      "image/png": "[encoded data removed]",
      "text/plain": [
       "<Figure size 864x576 with 1 Axes>"
      ]
     },
     "metadata": {
      "needs_background": "light"
     },
     "output_type": "display_data"
    },
    {
     "data": {
      "text/plain": [
       "<Figure size 864x576 with 0 Axes>"
      ]
     },
     "metadata": {},
     "output_type": "display_data"
    },
    {
     "data": {
      "image/png": "[encoded data removed]",
      "text/plain": [
       "<Figure size 864x576 with 1 Axes>"
      ]
     },
     "metadata": {
      "needs_background": "light"
     },
     "output_type": "display_data"
    }
   ],
   "source": [
    "# Majority voting from zero-shot segmentation masks\n",
    "\n",
    "objects = []\n",
    "for i in test_indices:\n",
    "    objects.append(load_and_decompress(\"zero-shot/\" + str(i) +\".pkl\"))\n",
    "    \n",
    "# Apply with debugging\n",
    "majority_voted_masks = majority_voting_with_segmentation(prediction_masks, objects, area = 10)\n",
    "\n",
    "# Visualization (assuming your visualize_mask function works)\n",
    "test_indices = [0, 1, 4, 5, 6, 7, 8, 12, 41, 46, 50]\n",
    "plt.figure(figsize=(12,8))\n",
    "for idx in [0, 46, 41, 5]:\n",
    "    plt.figure(figsize=(12,8))\n",
    "    visualize_mask(majority_voted_masks[test_indices.index(idx)])\n",
    "plt.show()"
   ]
  },
  {
   "cell_type": "code",
   "execution_count": 10,
   "id": "b3cd15ec",
   "metadata": {},
   "outputs": [
    {
     "name": "stdout",
     "output_type": "stream",
     "text": [
      "Average F1-score: 0.4555\n",
      "F1-scores per class: ['0.9992', '0.8159', '0.0124', '0.0481', '0.4017']\n",
      "Average Accuracy (AA): 0.5477\n",
      "Kappa: 0.7605\n",
      "Pixel Accuracy (OA): 0.9631\n"
     ]
    }
   ],
   "source": [
    "# Random Forest Object-wise Classification Numerical Evaluation\n",
    "\n",
    "metrics = calculate_segmentation_metrics(test_GT, majority_voted_masks)\n",
    "print(f\"Average F1-score: {metrics['average_f1_score']:.4f}\")\n",
    "print(f\"F1-scores per class: {[f'{score:.4f}' for score in metrics['f1_scores_per_class']]}\")\n",
    "print(f\"Average Accuracy (AA): {metrics['average_accuracy']:.4f}\")\n",
    "print(f\"Kappa: {metrics['kappa']:.4f}\")\n",
    "print(f\"Pixel Accuracy (OA): {metrics['pixel_accuracy']:.4f}\")\n"
   ]
  }
 ],
 "metadata": {
  "kernelspec": {
   "display_name": "Python 3 (ipykernel)",
   "language": "python",
   "name": "python3"
  },
  "language_info": {
   "codemirror_mode": {
    "name": "ipython",
    "version": 3
   },
   "file_extension": ".py",
   "mimetype": "text/x-python",
   "name": "python",
   "nbconvert_exporter": "python",
   "pygments_lexer": "ipython3",
   "version": "3.8.13"
  }
 },
 "nbformat": 4,
 "nbformat_minor": 5
}
